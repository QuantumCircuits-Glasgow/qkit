{
 "cells": [
  {
   "cell_type": "markdown",
   "metadata": {},
   "source": [
    "## Measurement class basics\n",
    "Objects of the **`measurement class`** are used to save all the information for one single measurement (in contrast to an object of the **`sample`** class that is used for multiple measurements).<br>\n",
    "A `measurement` object is currently created for spectroscopy and transport(IV charactersisitcs) measurements, with time domain measurement support coming in the near future. Besides **all used instrument settings** it records<br>\n",
    "* `UUID`, `run`, and `user`\n",
    "* measurement type (i.e. `spectroscopy`), used function (i.e. `measure_2D()`), and measurement axis\n",
    "* used `sample` object (in its then form)\n",
    "* git commit id of `qkit`\n",
    "\n",
    "The measurement object is saved in the hdf5 file, viewable with `qviewkit` and saved in a separate `.measurement` file in the same folder as the hdf5 file. A saved measurement object can be loaded similar to a data file."
   ]
  },
  {
   "cell_type": "code",
   "execution_count": 8,
   "metadata": {},
   "outputs": [
    {
     "name": "stdout",
     "output_type": "stream",
     "text": [
      "Starting QKIT framework ... -> qkit.core.startup\n",
      "Loading module ... S10_logging.py\n",
      "Loading module ... S14_setup_directories.py\n",
      "Loading module ... S16_available_modules.py\n",
      "Loading module ... S20_check_for_updates.py\n",
      "Loading module ... S25_info_service.py\n",
      "Loading module ... S30_qkit_start.py\n",
      "Loading module ... S65_load_RI_service.py\n",
      "Loading module ... S70_load_visa.py\n",
      "Loading module ... S80_load_file_service.py\n",
      "Loading module ... S85_init_measurement.py\n",
      "Loading module ... S98_started.py\n",
      "Loading module ... S99_init_user.py\n",
      "Initialized the file info database (qkit.fid) in 0.011 seconds.\n"
     ]
    }
   ],
   "source": [
    "## start qkit and import the necessary classes; here we assume a already configured qkit environment \n",
    "import qkit\n",
    "qkit.cfg[\"datadir\"] = r'C:\\Users\\weideslab\\Documents\\QkitLearn\\data'\n",
    "qkit.cfg['fid_init_viewer'] = True\n",
    "qkit.cfg['fid_scan_hdf'] = True\n",
    "\n",
    "\n",
    "\n",
    "\n",
    "qkit.start()\n",
    "\n",
    "from qkit.measure.measurement_class import Measurement\n",
    "import qkit.core.lib.file_service.file_info_database as fid\n",
    "f= fid.fid()"
   ]
  },
  {
   "cell_type": "markdown",
   "metadata": {},
   "source": [
    "In `qkit`'s **file information database** there is a dictionary, mapping the **UUID** of the data file to the absolute **path of the saved `.measurement` file**. This can be loaded by creating a **`measurement` object and parsing the abspath**."
   ]
  },
  {
   "cell_type": "code",
   "execution_count": 28,
   "metadata": {
    "scrolled": true
   },
   "outputs": [
    {
     "data": {
      "text/html": [
       "<div>\n",
       "<style scoped>\n",
       "    .dataframe tbody tr th:only-of-type {\n",
       "        vertical-align: middle;\n",
       "    }\n",
       "\n",
       "    .dataframe tbody tr th {\n",
       "        vertical-align: top;\n",
       "    }\n",
       "\n",
       "    .dataframe thead th {\n",
       "        text-align: right;\n",
       "    }\n",
       "</style>\n",
       "<table border=\"1\" class=\"dataframe\">\n",
       "  <thead>\n",
       "    <tr style=\"text-align: right;\">\n",
       "      <th></th>\n",
       "      <th>time</th>\n",
       "      <th>datetime</th>\n",
       "      <th>run</th>\n",
       "      <th>name</th>\n",
       "      <th>user</th>\n",
       "      <th>rating</th>\n",
       "      <th>comment</th>\n",
       "    </tr>\n",
       "  </thead>\n",
       "  <tbody>\n",
       "    <tr>\n",
       "      <th>QRT3CL</th>\n",
       "      <td>1618827573</td>\n",
       "      <td>2021-04-19 11:19:33</td>\n",
       "      <td>basic_data_storage</td>\n",
       "      <td>NewFancyData</td>\n",
       "      <td>wridhdhi</td>\n",
       "      <td>10.0</td>\n",
       "      <td>b'New data has been created ....'</td>\n",
       "    </tr>\n",
       "    <tr>\n",
       "      <th>QGC7AX</th>\n",
       "      <td>1599563769</td>\n",
       "      <td>2020-09-08 12:16:09</td>\n",
       "      <td>QkitLearn</td>\n",
       "      <td>3D_current_drive_frequency</td>\n",
       "      <td>data</td>\n",
       "      <td>10.0</td>\n",
       "      <td></td>\n",
       "    </tr>\n",
       "  </tbody>\n",
       "</table>\n",
       "</div>"
      ],
      "text/plain": [
       "              time            datetime                 run  \\\n",
       "QRT3CL  1618827573 2021-04-19 11:19:33  basic_data_storage   \n",
       "QGC7AX  1599563769 2020-09-08 12:16:09           QkitLearn   \n",
       "\n",
       "                              name      user rating  \\\n",
       "QRT3CL                NewFancyData  wridhdhi   10.0   \n",
       "QGC7AX  3D_current_drive_frequency      data   10.0   \n",
       "\n",
       "                                  comment  \n",
       "QRT3CL  b'New data has been created ....'  \n",
       "QGC7AX                                     "
      ]
     },
     "execution_count": 28,
     "metadata": {},
     "output_type": "execute_result"
    }
   ],
   "source": [
    "f.show() # FIX THE RATING COMPARISON in line 406 in file_info_database.py"
   ]
  },
  {
   "cell_type": "code",
   "execution_count": 30,
   "metadata": {},
   "outputs": [],
   "source": [
    "meas_file=qkit.fid.measure_db['QFZ34X']#get the corresponding measurement file"
   ]
  },
  {
   "cell_type": "code",
   "execution_count": 31,
   "metadata": {},
   "outputs": [
    {
     "data": {
      "text/plain": [
       "str"
      ]
     },
     "execution_count": 31,
     "metadata": {},
     "output_type": "execute_result"
    }
   ],
   "source": [
    "type(qkit.fid.measure_db['QFZ34X'])"
   ]
  },
  {
   "cell_type": "code",
   "execution_count": 25,
   "metadata": {},
   "outputs": [],
   "source": [
    "import json\n",
    "from qkit.measure.json_handler import QkitJSONEncoder, QkitJSONDecoder\n",
    "from qkit.measure.samples_class import Sample\n"
   ]
  },
  {
   "cell_type": "code",
   "execution_count": 32,
   "metadata": {},
   "outputs": [
    {
     "name": "stdout",
     "output_type": "stream",
     "text": [
      "{'comment': '', 'name': 'Arbitrary Sample'}\n"
     ]
    }
   ],
   "source": [
    "f1=open(qkit.fid.measure_db['QFZ34X'])\n",
    "f1\n",
    "print(json.load(f1, cls = QkitJSONDecoder)['sample'])"
   ]
  },
  {
   "cell_type": "markdown",
   "metadata": {},
   "source": [
    "Each folder has 4 files :\n",
    "1. the h5 file which has all the measurements\n",
    "2. the log file\n",
    "3. the measurement file, which has settings, run ID, sample and more details .\n",
    "4. the set file which has the settings\n",
    "\n",
    "using he *json* class we see above if the file has some sample data embedded in it . Else it will return Null error.\n",
    "\n",
    "## Then initialize Measurement object\n",
    "- Load the file\n",
    "- extract the details\n",
    "- set and update them"
   ]
  },
  {
   "cell_type": "code",
   "execution_count": 34,
   "metadata": {
    "scrolled": true
   },
   "outputs": [],
   "source": [
    "m = Measurement() #init\n",
    "# m.load(meas_file)\n",
    "m.load(meas_file)"
   ]
  },
  {
   "cell_type": "code",
   "execution_count": 39,
   "metadata": {},
   "outputs": [
    {
     "name": "stdout",
     "output_type": "stream",
     "text": [
      "{\n",
      "    \"analyzed\": false,\n",
      "    \"hdf_relpath\": \"QFZ34X_VNA_tracedata\\\\QFZ34X_VNA_tracedata.h5\",\n",
      "    \"instruments\": {\n",
      "        \"vna\": {\n",
      "            \"Average\": {\n",
      "                \"content\": true,\n",
      "                \"has_setter\": true\n",
      "            },\n",
      "            \"active_trace\": {\n",
      "                \"content\": null,\n",
      "                \"has_setter\": true\n",
      "            },\n",
      "            \"averages\": {\n",
      "                \"content\": 1,\n",
      "                \"has_setter\": true\n",
      "            },\n",
      "            \"bandwidth\": {\n",
      "                \"content\": 200.0,\n",
      "                \"has_setter\": true\n",
      "            },\n",
      "            \"centerfreq\": {\n",
      "                \"content\": 5000000000.0,\n",
      "                \"has_setter\": true\n",
      "            },\n",
      "            \"channel_index\": {\n",
      "                \"content\": 1,\n",
      "                \"has_setter\": true\n",
      "            },\n",
      "            \"cw\": {\n",
      "                \"content\": false,\n",
      "                \"has_setter\": true\n",
      "            },\n",
      "            \"cwfreq\": {\n",
      "                \"content\": 300000.0,\n",
      "                \"has_setter\": true\n",
      "            },\n",
      "            \"edel_status\": {\n",
      "                \"content\": false,\n",
      "                \"has_setter\": true\n",
      "            },\n",
      "            \"nop\": {\n",
      "                \"content\": 4001,\n",
      "                \"has_setter\": true\n",
      "            },\n",
      "            \"port1_edel\": {\n",
      "                \"content\": 0.0,\n",
      "                \"has_setter\": true\n",
      "            },\n",
      "            \"port2_edel\": {\n",
      "                \"content\": 0.0,\n",
      "                \"has_setter\": true\n",
      "            },\n",
      "            \"power\": {\n",
      "                \"content\": -40.0,\n",
      "                \"has_setter\": true\n",
      "            },\n",
      "            \"span\": {\n",
      "                \"content\": 4000000000.0,\n",
      "                \"has_setter\": true\n",
      "            },\n",
      "            \"startfreq\": {\n",
      "                \"content\": 3000000000.0,\n",
      "                \"has_setter\": true\n",
      "            },\n",
      "            \"startpower\": {\n",
      "                \"content\": -20.0,\n",
      "                \"has_setter\": true\n",
      "            },\n",
      "            \"stopfreq\": {\n",
      "                \"content\": 7000000000.0,\n",
      "                \"has_setter\": true\n",
      "            },\n",
      "            \"stoppower\": {\n",
      "                \"content\": -20.0,\n",
      "                \"has_setter\": true\n",
      "            },\n",
      "            \"sweep_mode\": {\n",
      "                \"content\": \"0\",\n",
      "                \"has_setter\": true\n",
      "            },\n",
      "            \"sweep_type\": {\n",
      "                \"content\": \"LIN\",\n",
      "                \"has_setter\": true\n",
      "            },\n",
      "            \"sweeptime\": {\n",
      "                \"content\": 19.2678392,\n",
      "                \"has_setter\": false\n",
      "            },\n",
      "            \"sweeptime_averages\": {\n",
      "                \"content\": 19.2678392,\n",
      "                \"has_setter\": false\n",
      "            },\n",
      "            \"trigger_source\": {\n",
      "                \"content\": \"BUS\",\n",
      "                \"has_setter\": true\n",
      "            },\n",
      "            \"zerospan\": {\n",
      "                \"content\": false,\n",
      "                \"has_setter\": true\n",
      "            }\n",
      "        }\n",
      "    },\n",
      "    \"measurement_func\": \"measure_1D\",\n",
      "    \"measurement_type\": \"spectroscopy\",\n",
      "    \"rating\": 3,\n",
      "    \"run_id\": \"\",\n",
      "    \"sample\": {\n",
      "        \"comment\": \"\",\n",
      "        \"name\": \"Arbitrary Sample\"\n",
      "    },\n",
      "    \"user\": \"\",\n",
      "    \"uuid\": \"QFZ34X\",\n",
      "    \"web_visible\": true,\n",
      "    \"x_axis\": \"frequency\",\n",
      "    \"y_axis\": \"\",\n",
      "    \"z_axis\": \"\"\n",
      "}\n"
     ]
    }
   ],
   "source": [
    "#lets se what's in this file\n",
    "print(m.get_JSON())"
   ]
  },
  {
   "cell_type": "markdown",
   "metadata": {},
   "source": [
    "The information in the file is **JSON encoded** (basically a **large dict**) and upon init gets **converted into object attributes**."
   ]
  },
  {
   "cell_type": "code",
   "execution_count": 35,
   "metadata": {},
   "outputs": [],
   "source": [
    "user = m.user\n",
    "run_id = m.run_id\n",
    "smpl = m.sample"
   ]
  },
  {
   "cell_type": "markdown",
   "metadata": {},
   "source": [
    "Besides this readout of parameters is also possible to **set an instrument back** to its settings during this measurement to **recreate the mesurement** environment. For this to work the specific **instruments need to be initialized first**. Note we just show 'vna' but this instrument doesnt exist so we gt an error. "
   ]
  },
  {
   "cell_type": "code",
   "execution_count": 43,
   "metadata": {},
   "outputs": [
    {
     "ename": "KeyError",
     "evalue": "'instruments'",
     "output_type": "error",
     "traceback": [
      "\u001b[1;31m---------------------------------------------------------------------------\u001b[0m",
      "\u001b[1;31mKeyError\u001b[0m                                  Traceback (most recent call last)",
      "\u001b[1;32m<ipython-input-43-ef2de2563583>\u001b[0m in \u001b[0;36m<module>\u001b[1;34m\u001b[0m\n\u001b[1;32m----> 1\u001b[1;33m \u001b[0mm\u001b[0m\u001b[1;33m.\u001b[0m\u001b[0mupdate_instrument\u001b[0m\u001b[1;33m(\u001b[0m\u001b[1;34m'vna'\u001b[0m\u001b[1;33m)\u001b[0m\u001b[1;33m\u001b[0m\u001b[1;33m\u001b[0m\u001b[0m\n\u001b[0m\u001b[0;32m      2\u001b[0m \u001b[1;33m\u001b[0m\u001b[0m\n\u001b[0;32m      3\u001b[0m \u001b[1;31m## also possible for all measurements\u001b[0m\u001b[1;33m\u001b[0m\u001b[1;33m\u001b[0m\u001b[1;33m\u001b[0m\u001b[0m\n\u001b[0;32m      4\u001b[0m \u001b[1;31m## m.update_all_instruments()\u001b[0m\u001b[1;33m\u001b[0m\u001b[1;33m\u001b[0m\u001b[1;33m\u001b[0m\u001b[0m\n",
      "\u001b[1;32mC:\\qkit\\qkit\\measure\\measurement_class.py\u001b[0m in \u001b[0;36mupdate_instrument\u001b[1;34m(self, ins_name)\u001b[0m\n\u001b[0;32m    103\u001b[0m         \u001b[1;32mtry\u001b[0m\u001b[1;33m:\u001b[0m\u001b[1;33m\u001b[0m\u001b[1;33m\u001b[0m\u001b[0m\n\u001b[0;32m    104\u001b[0m             \u001b[0mins\u001b[0m \u001b[1;33m=\u001b[0m \u001b[0mqkit\u001b[0m\u001b[1;33m.\u001b[0m\u001b[0minstruments\u001b[0m\u001b[1;33m.\u001b[0m\u001b[0mget\u001b[0m\u001b[1;33m(\u001b[0m\u001b[0mins_name\u001b[0m\u001b[1;33m)\u001b[0m\u001b[1;33m\u001b[0m\u001b[1;33m\u001b[0m\u001b[0m\n\u001b[1;32m--> 105\u001b[1;33m             \u001b[0mparams_dict\u001b[0m \u001b[1;33m=\u001b[0m \u001b[0mself\u001b[0m\u001b[1;33m.\u001b[0m\u001b[0minstruments\u001b[0m\u001b[1;33m[\u001b[0m\u001b[1;34m'instruments'\u001b[0m\u001b[1;33m]\u001b[0m\u001b[1;33m[\u001b[0m\u001b[0mins_name\u001b[0m\u001b[1;33m]\u001b[0m\u001b[1;33m\u001b[0m\u001b[1;33m\u001b[0m\u001b[0m\n\u001b[0m\u001b[0;32m    106\u001b[0m         \u001b[1;32mexcept\u001b[0m \u001b[0mAttributeError\u001b[0m \u001b[1;32mor\u001b[0m \u001b[0mNameError\u001b[0m\u001b[1;33m:\u001b[0m\u001b[1;33m\u001b[0m\u001b[1;33m\u001b[0m\u001b[0m\n\u001b[0;32m    107\u001b[0m                 \u001b[0mlogging\u001b[0m\u001b[1;33m.\u001b[0m\u001b[0merror\u001b[0m\u001b[1;33m(\u001b[0m\u001b[1;34m'Relevant instruments and attributes not properly specified. '\u001b[0m\u001b[1;33m+\u001b[0m\u001b[0mstr\u001b[0m\u001b[1;33m(\u001b[0m\u001b[0mins_name\u001b[0m\u001b[1;33m)\u001b[0m\u001b[1;33m)\u001b[0m\u001b[1;33m\u001b[0m\u001b[1;33m\u001b[0m\u001b[0m\n",
      "\u001b[1;31mKeyError\u001b[0m: 'instruments'"
     ]
    }
   ],
   "source": [
    "m.update_instrument('vna')\n",
    "\n",
    "## also possible for all measurements\n",
    "## m.update_all_instruments()"
   ]
  },
  {
   "cell_type": "markdown",
   "metadata": {},
   "source": [
    "The entries can be **added or changed** (be careful not to lose information) **and saved again**."
   ]
  },
  {
   "cell_type": "code",
   "execution_count": 20,
   "metadata": {},
   "outputs": [
    {
     "ename": "KeyError",
     "evalue": "'XXXXXX'",
     "output_type": "error",
     "traceback": [
      "\u001b[1;31m---------------------------------------------------------------------------\u001b[0m",
      "\u001b[1;31mKeyError\u001b[0m                                  Traceback (most recent call last)",
      "\u001b[1;32m<ipython-input-20-12be268460a2>\u001b[0m in \u001b[0;36m<module>\u001b[1;34m\u001b[0m\n\u001b[0;32m      1\u001b[0m \u001b[0mm\u001b[0m\u001b[1;33m.\u001b[0m\u001b[0manalyzed\u001b[0m \u001b[1;33m=\u001b[0m \u001b[1;32mTrue\u001b[0m\u001b[1;33m\u001b[0m\u001b[1;33m\u001b[0m\u001b[0m\n\u001b[0;32m      2\u001b[0m \u001b[0mm\u001b[0m\u001b[1;33m.\u001b[0m\u001b[0mrating\u001b[0m \u001b[1;33m=\u001b[0m \u001b[1;36m5\u001b[0m\u001b[1;33m\u001b[0m\u001b[1;33m\u001b[0m\u001b[0m\n\u001b[1;32m----> 3\u001b[1;33m \u001b[0mm\u001b[0m\u001b[1;33m.\u001b[0m\u001b[0msave\u001b[0m\u001b[1;33m(\u001b[0m\u001b[0mqkit\u001b[0m\u001b[1;33m.\u001b[0m\u001b[0mfid\u001b[0m\u001b[1;33m.\u001b[0m\u001b[0mmeasure_db\u001b[0m\u001b[1;33m[\u001b[0m\u001b[1;34m'XXXXXX'\u001b[0m\u001b[1;33m]\u001b[0m\u001b[1;33m)\u001b[0m\u001b[1;33m\u001b[0m\u001b[1;33m\u001b[0m\u001b[0m\n\u001b[0m",
      "\u001b[1;31mKeyError\u001b[0m: 'XXXXXX'"
     ]
    }
   ],
   "source": [
    "m.analyzed = True\n",
    "m.rating = 5\n",
    "m.save(qkit.fid.measure_db['XXXXXX'])"
   ]
  },
  {
   "cell_type": "code",
   "execution_count": 25,
   "metadata": {},
   "outputs": [
    {
     "name": "stdout",
     "output_type": "stream",
     "text": [
      "{\n",
      "    \"analyzed\": true,\n",
      "    \"hdf_relpath\": \"QGC74O_3D_current_drive_frequency\\\\QGC74O_3D_current_drive_frequency.h5\",\n",
      "    \"instruments\": {\n",
      "        \"hp_source\": {},\n",
      "        \"mw\": {\n",
      "            \"frequency\": {\n",
      "                \"content\": 7000000000.0,\n",
      "                \"has_setter\": true\n",
      "            },\n",
      "            \"high_power\": {\n",
      "                \"content\": true,\n",
      "                \"has_setter\": true\n",
      "            },\n",
      "            \"power\": {\n",
      "                \"content\": 10.0,\n",
      "                \"has_setter\": true\n",
      "            },\n",
      "            \"slope\": {\n",
      "                \"content\": null,\n",
      "                \"has_setter\": true\n",
      "            },\n",
      "            \"status\": {\n",
      "                \"content\": true,\n",
      "                \"has_setter\": true\n",
      "            }\n",
      "        },\n",
      "        \"vna\": {\n",
      "            \"Average\": {\n",
      "                \"content\": true,\n",
      "                \"has_setter\": true\n",
      "            },\n",
      "            \"active_trace\": {\n",
      "                \"content\": null,\n",
      "                \"has_setter\": true\n",
      "            },\n",
      "            \"averages\": {\n",
      "                \"content\": 1,\n",
      "                \"has_setter\": true\n",
      "            },\n",
      "            \"bandwidth\": {\n",
      "                \"content\": 200.0,\n",
      "                \"has_setter\": true\n",
      "            },\n",
      "            \"centerfreq\": {\n",
      "                \"content\": 5306500000.0,\n",
      "                \"has_setter\": true\n",
      "            },\n",
      "            \"channel_index\": {\n",
      "                \"content\": 1,\n",
      "                \"has_setter\": true\n",
      "            },\n",
      "            \"cw\": {\n",
      "                \"content\": false,\n",
      "                \"has_setter\": true\n",
      "            },\n",
      "            \"cwfreq\": {\n",
      "                \"content\": 300000.0,\n",
      "                \"has_setter\": true\n",
      "            },\n",
      "            \"edel_status\": {\n",
      "                \"content\": false,\n",
      "                \"has_setter\": true\n",
      "            },\n",
      "            \"nop\": {\n",
      "                \"content\": 2,\n",
      "                \"has_setter\": true\n",
      "            },\n",
      "            \"port1_edel\": {\n",
      "                \"content\": 0.0,\n",
      "                \"has_setter\": true\n",
      "            },\n",
      "            \"port2_edel\": {\n",
      "                \"content\": 0.0,\n",
      "                \"has_setter\": true\n",
      "            },\n",
      "            \"power\": {\n",
      "                \"content\": -40.0,\n",
      "                \"has_setter\": true\n",
      "            },\n",
      "            \"span\": {\n",
      "                \"content\": 2000000.0,\n",
      "                \"has_setter\": true\n",
      "            },\n",
      "            \"startfreq\": {\n",
      "                \"content\": 5305500000.0,\n",
      "                \"has_setter\": true\n",
      "            },\n",
      "            \"startpower\": {\n",
      "                \"content\": -25.0,\n",
      "                \"has_setter\": true\n",
      "            },\n",
      "            \"stopfreq\": {\n",
      "                \"content\": 5307500000.0,\n",
      "                \"has_setter\": true\n",
      "            },\n",
      "            \"stoppower\": {\n",
      "                \"content\": -25.0,\n",
      "                \"has_setter\": true\n",
      "            },\n",
      "            \"sweep_mode\": {\n",
      "                \"content\": \"1\",\n",
      "                \"has_setter\": true\n",
      "            },\n",
      "            \"sweep_type\": {\n",
      "                \"content\": \"LIN\",\n",
      "                \"has_setter\": true\n",
      "            },\n",
      "            \"sweeptime\": {\n",
      "                \"content\": 24.01587264,\n",
      "                \"has_setter\": false\n",
      "            },\n",
      "            \"sweeptime_averages\": {\n",
      "                \"content\": 24.01587264,\n",
      "                \"has_setter\": false\n",
      "            },\n",
      "            \"trigger_source\": {\n",
      "                \"content\": \"INT\",\n",
      "                \"has_setter\": true\n",
      "            },\n",
      "            \"zerospan\": {\n",
      "                \"content\": false,\n",
      "                \"has_setter\": true\n",
      "            }\n",
      "        }\n",
      "    },\n",
      "    \"measurement_func\": \"measure_3D\",\n",
      "    \"measurement_type\": \"spectroscopy\",\n",
      "    \"rating\": 5,\n",
      "    \"run_id\": \"\",\n",
      "    \"sample\": null,\n",
      "    \"user\": \"\",\n",
      "    \"uuid\": \"QGC74O\",\n",
      "    \"web_visible\": true,\n",
      "    \"x_axis\": \"current\",\n",
      "    \"y_axis\": \"drive_frequency\",\n",
      "    \"z_axis\": \"frequency\"\n",
      "}\n"
     ]
    }
   ],
   "source": [
    "print(m.get_JSON())"
   ]
  },
  {
   "cell_type": "code",
   "execution_count": 45,
   "metadata": {},
   "outputs": [
    {
     "data": {
      "text/plain": [
       "{'vna': {'Average': {'content': True, 'has_setter': True},\n",
       "  'active_trace': {'content': None, 'has_setter': True},\n",
       "  'averages': {'content': 1, 'has_setter': True},\n",
       "  'bandwidth': {'content': 200.0, 'has_setter': True},\n",
       "  'centerfreq': {'content': 5000000000.0, 'has_setter': True},\n",
       "  'channel_index': {'content': 1, 'has_setter': True},\n",
       "  'cw': {'content': False, 'has_setter': True},\n",
       "  'cwfreq': {'content': 300000.0, 'has_setter': True},\n",
       "  'edel_status': {'content': False, 'has_setter': True},\n",
       "  'nop': {'content': 4001, 'has_setter': True},\n",
       "  'port1_edel': {'content': 0.0, 'has_setter': True},\n",
       "  'port2_edel': {'content': 0.0, 'has_setter': True},\n",
       "  'power': {'content': -40.0, 'has_setter': True},\n",
       "  'span': {'content': 4000000000.0, 'has_setter': True},\n",
       "  'startfreq': {'content': 3000000000.0, 'has_setter': True},\n",
       "  'startpower': {'content': -20.0, 'has_setter': True},\n",
       "  'stopfreq': {'content': 7000000000.0, 'has_setter': True},\n",
       "  'stoppower': {'content': -20.0, 'has_setter': True},\n",
       "  'sweep_mode': {'content': '0', 'has_setter': True},\n",
       "  'sweep_type': {'content': 'LIN', 'has_setter': True},\n",
       "  'sweeptime': {'content': 19.2678392, 'has_setter': False},\n",
       "  'sweeptime_averages': {'content': 19.2678392, 'has_setter': False},\n",
       "  'trigger_source': {'content': 'BUS', 'has_setter': True},\n",
       "  'zerospan': {'content': False, 'has_setter': True}}}"
      ]
     },
     "execution_count": 45,
     "metadata": {},
     "output_type": "execute_result"
    }
   ],
   "source": [
    "m.instruments"
   ]
  },
  {
   "cell_type": "markdown",
   "metadata": {},
   "source": [
    "## Summary \n",
    "The measurement class is used to read, set measurement settings before running it. \n",
    "so the following are the functions of measurement class, seen by `help(m_obj)`\n",
    "\n",
    "Basically do the following :\n",
    "1. Initialize a measurement object\n",
    "2. Either load a measurement file using fid, or just set its attributes.\n",
    "3. set the instrument parameters using the instrument class. \n",
    "4. Then update all instruments.\n",
    "5. save and close the measurement, and do `measure1D()` or \"D/ 3D measurements. "
   ]
  },
  {
   "cell_type": "code",
   "execution_count": null,
   "metadata": {},
   "outputs": [],
   "source": []
  }
 ],
 "metadata": {
  "kernelspec": {
   "display_name": "Python 3",
   "language": "python",
   "name": "python3"
  },
  "language_info": {
   "codemirror_mode": {
    "name": "ipython",
    "version": 3
   },
   "file_extension": ".py",
   "mimetype": "text/x-python",
   "name": "python",
   "nbconvert_exporter": "python",
   "pygments_lexer": "ipython3",
   "version": "3.7.10"
  }
 },
 "nbformat": 4,
 "nbformat_minor": 2
}
