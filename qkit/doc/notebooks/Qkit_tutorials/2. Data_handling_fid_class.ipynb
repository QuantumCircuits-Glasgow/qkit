{
 "cells": [
  {
   "cell_type": "markdown",
   "metadata": {},
   "source": [
    "# 2. Data readout basics (`fid` class)\n",
    "### i.e. for some analysis or plotting. \n",
    "This notebook is intended to show the **readout of created hdf5 files with python**. For the handling of the measured file qkit provides a **file info database (fid)** for convenient access to the stored data, for more info on that see the corresponding notebook.<br>\n",
    "The readout (as well as the storage in the first place) is done with the **`store.Data` module**. "
   ]
  },
  {
   "cell_type": "code",
   "execution_count": 2,
   "metadata": {},
   "outputs": [
    {
     "name": "stdout",
     "output_type": "stream",
     "text": [
      "QKIT configuration initialized -> available as qkit.cfg[...]\n"
     ]
    }
   ],
   "source": [
    "import qkit"
   ]
  },
  {
   "cell_type": "markdown",
   "metadata": {},
   "source": [
    "\n",
    "\n",
    "fid configuration settings (defaults)\n",
    "=====================================\n",
    "- fid_scan_datadir = True\n",
    "    Indicates whether you want to scan your datadir for h5 files at startup.\n",
    "- fid_scan_hdf     = False\n",
    "    This will open every h5 file found and extract attributes.\n",
    "- fid_init_viewer  = True\n",
    "    Make a database out of the dictionary of h5 files."
   ]
  },
  {
   "cell_type": "code",
   "execution_count": 3,
   "metadata": {},
   "outputs": [],
   "source": [
    "qkit.cfg[\"datadir\"] = r'C:\\Users\\weideslab\\Documents\\QkitLearn\\data'\n",
    "qkit.cfg['fid_init_viewer'] = True #Making a database\n",
    "qkit.cfg['fid_scan_hdf'] = True  #Extract all attribs\n",
    "qkit.cfg['fid_scan_datadir'] = True #Scan the data directory at the beginning"
   ]
  },
  {
   "cell_type": "code",
   "execution_count": 4,
   "metadata": {},
   "outputs": [
    {
     "name": "stdout",
     "output_type": "stream",
     "text": [
      "Starting QKIT framework ... -> qkit.core.startup\n",
      "Loading module ... S10_logging.py\n",
      "Loading module ... S14_setup_directories.py\n",
      "Loading module ... S16_available_modules.py\n",
      "Loading module ... S20_check_for_updates.py\n",
      "Loading module ... S25_info_service.py\n",
      "Loading module ... S30_qkit_start.py\n",
      "Loading module ... S65_load_RI_service.py\n",
      "Loading module ... S70_load_visa.py\n",
      "Loading module ... S80_load_file_service.py\n",
      "Loading module ... S85_init_measurement.py\n",
      "Initialized the file info database (qkit.fid) in 0.020 seconds.\n"
     ]
    },
    {
     "data": {
      "application/vnd.jupyter.widget-view+json": {
       "model_id": "9f9c2404e1014f7793eb6469e2f991cd",
       "version_major": 2,
       "version_minor": 0
      },
      "text/plain": [
       "HBox(children=(Text(value='', description='Please check: Run ID', placeholder='***RUN_ID IS EMPTY***', style=D…"
      ]
     },
     "metadata": {},
     "output_type": "display_data"
    },
    {
     "name": "stdout",
     "output_type": "stream",
     "text": [
      "Loading module ... S98_started.py\n",
      "Loading module ... S99_init_user.py\n"
     ]
    }
   ],
   "source": [
    "qkit.start()"
   ]
  },
  {
   "cell_type": "code",
   "execution_count": 4,
   "metadata": {},
   "outputs": [
    {
     "data": {
      "text/plain": [
       "{'qkitdir': 'C:\\\\qkit\\\\qkit',\n",
       " 'coredir': 'C:\\\\qkit\\\\qkit\\\\core',\n",
       " 'logdir': 'C:\\\\qkit\\\\qkit\\\\logs',\n",
       " 'execdir': 'C:\\\\qkit\\\\qkit',\n",
       " 'rootdir': 'C:\\\\qkit\\\\qkit',\n",
       " 'tempdir': 'C:\\\\Users\\\\WEIDES~2\\\\AppData\\\\Local\\\\Temp',\n",
       " 'datadir': 'C:\\\\Users\\\\weideslab\\\\Documents\\\\QkitLearn\\\\data',\n",
       " 'instruments_dir': 'C:\\\\qkit\\\\qkit\\\\drivers',\n",
       " 'user_instruments_dir': None,\n",
       " 'datafolder_structure': 2,\n",
       " 'plot_engine': 'qkit.gui.qviewkit.main',\n",
       " 'file_log_level': 'INFO',\n",
       " 'stdout_log_level': 'WARNING',\n",
       " 'qtlab': False,\n",
       " 'fid_init_viewer': True,\n",
       " 'fid_scan_hdf': True,\n",
       " 'maintain_logfiles': True,\n",
       " 'blocked_modules': [],\n",
       " 'check_for_updates': False,\n",
       " 'load_info_service': True,\n",
       " 'info_host': 'localhost',\n",
       " 'info_port': 5603,\n",
       " 'qt_compatible': False,\n",
       " 'load_ri_service': False,\n",
       " 'load_visa': False,\n",
       " 'fid_scan_datadir': True,\n",
       " 'fid_restrict_to_userdir': False,\n",
       " 'run_id': '',\n",
       " 'user': '',\n",
       " 'startdir': False,\n",
       " 'startscript': False,\n",
       " 'exitscript': False}"
      ]
     },
     "execution_count": 4,
     "metadata": {},
     "output_type": "execute_result"
    }
   ],
   "source": [
    "qkit.cfg"
   ]
  },
  {
   "cell_type": "markdown",
   "metadata": {},
   "source": [
    "# file info database (fid)\n",
    "\n",
    "\n",
    "\n",
    "lets introduce a set of :\n",
    "\n",
    "## fid configuration settings (defaults) :\n",
    "\n",
    "- fid_scan_datadir = True\n",
    "    Indicates whether you want to scan your datadir for h5 files at startup.\n",
    "- fid_scan_hdf     = False\n",
    "    This will open every h5 file found and extract attributes.\n",
    "- fid_init_viewer  = True\n",
    "    Make a database out of the dictionary of h5 files.\n",
    "\n",
    "\n",
    "Databases\n",
    "=========\n",
    "Each fid class object you create has attributes \n",
    "* `h5_db` - is a dictionary of the UUID as key and the h5 file location as values. You can access any file using the `get` method. `qkit.fid.h5_db.get('xxxxxx')` returns the location.\n",
    "* `set_db` - is the same dictionary of the set files and `measure_db` is a dictionary of the measurement files.\n",
    "* `h5_info_db` - is the detailed database of the h5 files containing more attributes. (shown Below)\n",
    "\n",
    "\n",
    "### `h5_db`\n",
    "This is the main database. It holds an index of UUID <-> h5-file path.\n",
    "usage: \n",
    "qkit.fid.h5_db.get(\"UUID\") or qkit.fid.get(\"UUID\") returns the h5_file path\n",
    "\n",
    "\n",
    "### `set_db and measure_db`\n",
    "Hold an UUID index with the settings for a h5_file\n",
    "\n",
    "### `h5_info_db`\n",
    "\n",
    "This database is only populated when the qkit.cfg setting 'fid_scan_hdf' is True.\n",
    "The database holds an UUID index with extended informations about the hdf file. \n",
    "populating this database is much slower than h5_db therfore not on by default.\n",
    "\n",
    "----------\n",
    "\n",
    "\n",
    "basic usage\n",
    "===========\n",
    "\n",
    "## 1.this is done automatically on qkit startup: (in n.op.)\n",
    "-------------------------------------------\n",
    "```python\n",
    "import qkit.core.lib.file_service.file_info_database as fid\n",
    "qkit.fid = fid.fid()\n",
    "```\n",
    "\n",
    "2.`fid.show()` and `fid.view('xxxxxxx')`\n",
    "-----------\n",
    "opens a qviewkit instance with the file_id\n",
    "\n",
    "\n",
    "## 3. Then further functions to plot, access the h5 file data\n",
    "after startup, the following main commands are available in a jupyter notebook:\n",
    "you can access all the individual databases, but the `show()` function does a clear view in tab format, and `view()` let's us inspect the individual files.\n",
    "\n",
    "- `qkit.fid.show()` = shows pandas table format of the files in the datadir.\n",
    "- `qkit.fid.view(file_id)` = opens a qkitview  for the file\n",
    "- qkit.fid.get_uuid(time)\n",
    "- qkit.fid.get_time(uuid)\n",
    "- qkit.fid.get_date(uuid)\n",
    "\n",
    "\n",
    "---\n",
    "import and basic usage of the h5-grid-viewer\n",
    "============================================\n",
    "* qgrid is an interactive jupyter tool for pandas dataframe, which helps filtering your data\n",
    " for more information see https://github.com/quantopian/qgrid\n",
    " script works also well without qgrid\n",
    " you can simply access all the data via pandas commands, i.e., qkit.fid.df.columnname['uid']\n",
    " for further information see doc strings"
   ]
  },
  {
   "cell_type": "code",
   "execution_count": 9,
   "metadata": {},
   "outputs": [],
   "source": [
    "import qkit.core.lib.file_service.file_info_database as fid\n",
    "#reload(fid)"
   ]
  },
  {
   "cell_type": "code",
   "execution_count": 10,
   "metadata": {},
   "outputs": [
    {
     "name": "stdout",
     "output_type": "stream",
     "text": [
      "Initialized the file info database (qkit.fid) in 0.011 seconds.\n"
     ]
    }
   ],
   "source": [
    "qkit.fid = fid.fid()"
   ]
  },
  {
   "cell_type": "code",
   "execution_count": 11,
   "metadata": {},
   "outputs": [
    {
     "data": {
      "text/html": [
       "<div>\n",
       "<style scoped>\n",
       "    .dataframe tbody tr th:only-of-type {\n",
       "        vertical-align: middle;\n",
       "    }\n",
       "\n",
       "    .dataframe tbody tr th {\n",
       "        vertical-align: top;\n",
       "    }\n",
       "\n",
       "    .dataframe thead th {\n",
       "        text-align: right;\n",
       "    }\n",
       "</style>\n",
       "<table border=\"1\" class=\"dataframe\">\n",
       "  <thead>\n",
       "    <tr style=\"text-align: right;\">\n",
       "      <th></th>\n",
       "      <th>time</th>\n",
       "      <th>datetime</th>\n",
       "      <th>run</th>\n",
       "      <th>name</th>\n",
       "      <th>user</th>\n",
       "    </tr>\n",
       "  </thead>\n",
       "  <tbody>\n",
       "    <tr>\n",
       "      <th>QRHPZG</th>\n",
       "      <td>1618297036</td>\n",
       "      <td>2021-04-13 07:57:16</td>\n",
       "      <td>basic_data_storage</td>\n",
       "      <td>NewFancyData</td>\n",
       "      <td>wridhdhi</td>\n",
       "    </tr>\n",
       "    <tr>\n",
       "      <th>QRHPV9</th>\n",
       "      <td>1618296885</td>\n",
       "      <td>2021-04-13 07:54:45</td>\n",
       "      <td>NO_RUN</td>\n",
       "      <td>NewFancyData</td>\n",
       "      <td>John_Doe</td>\n",
       "    </tr>\n",
       "    <tr>\n",
       "      <th>QFZ34X</th>\n",
       "      <td>1598951841</td>\n",
       "      <td>2020-09-01 10:17:21</td>\n",
       "      <td>QkitLearn</td>\n",
       "      <td>VNA_tracedata</td>\n",
       "      <td>data</td>\n",
       "    </tr>\n",
       "    <tr>\n",
       "      <th>QFZ37C</th>\n",
       "      <td>1598951928</td>\n",
       "      <td>2020-09-01 10:18:48</td>\n",
       "      <td>QkitLearn</td>\n",
       "      <td>VNA_tracedata</td>\n",
       "      <td>data</td>\n",
       "    </tr>\n",
       "    <tr>\n",
       "      <th>QG4U70</th>\n",
       "      <td>1599220188</td>\n",
       "      <td>2020-09-04 12:49:48</td>\n",
       "      <td>QkitLearn</td>\n",
       "      <td>3D_current_drive_frequency</td>\n",
       "      <td>data</td>\n",
       "    </tr>\n",
       "    <tr>\n",
       "      <th>QG4ULX</th>\n",
       "      <td>1599220725</td>\n",
       "      <td>2020-09-04 12:58:45</td>\n",
       "      <td>QkitLearn</td>\n",
       "      <td>3D_current_drive_frequency</td>\n",
       "      <td>data</td>\n",
       "    </tr>\n",
       "    <tr>\n",
       "      <th>QG4ZN4</th>\n",
       "      <td>1599227248</td>\n",
       "      <td>2020-09-04 14:47:28</td>\n",
       "      <td>QkitLearn</td>\n",
       "      <td>3D_current_drive_frequency</td>\n",
       "      <td>data</td>\n",
       "    </tr>\n",
       "    <tr>\n",
       "      <th>QG4ZOT</th>\n",
       "      <td>1599227309</td>\n",
       "      <td>2020-09-04 14:48:29</td>\n",
       "      <td>QkitLearn</td>\n",
       "      <td>3D_current_drive_frequency</td>\n",
       "      <td>data</td>\n",
       "    </tr>\n",
       "    <tr>\n",
       "      <th>QG4ZRK</th>\n",
       "      <td>1599227408</td>\n",
       "      <td>2020-09-04 14:50:08</td>\n",
       "      <td>QkitLearn</td>\n",
       "      <td>3D_current_drive_frequency</td>\n",
       "      <td>data</td>\n",
       "    </tr>\n",
       "    <tr>\n",
       "      <th>QG4ZXL</th>\n",
       "      <td>1599227625</td>\n",
       "      <td>2020-09-04 14:53:45</td>\n",
       "      <td>QkitLearn</td>\n",
       "      <td>3D_current_drive_frequency</td>\n",
       "      <td>data</td>\n",
       "    </tr>\n",
       "    <tr>\n",
       "      <th>QG503K</th>\n",
       "      <td>1599227840</td>\n",
       "      <td>2020-09-04 14:57:20</td>\n",
       "      <td>QkitLearn</td>\n",
       "      <td>3D_current_drive_frequency</td>\n",
       "      <td>data</td>\n",
       "    </tr>\n",
       "    <tr>\n",
       "      <th>QG549O</th>\n",
       "      <td>1599233244</td>\n",
       "      <td>2020-09-04 16:27:24</td>\n",
       "      <td>QkitLearn</td>\n",
       "      <td>3D_current_drive_frequency</td>\n",
       "      <td>data</td>\n",
       "    </tr>\n",
       "    <tr>\n",
       "      <th>QGA72J</th>\n",
       "      <td>1599470155</td>\n",
       "      <td>2020-09-07 10:15:55</td>\n",
       "      <td>QkitLearn</td>\n",
       "      <td>3D_current_drive_frequency</td>\n",
       "      <td>data</td>\n",
       "    </tr>\n",
       "    <tr>\n",
       "      <th>QGC74O</th>\n",
       "      <td>1599563544</td>\n",
       "      <td>2020-09-08 12:12:24</td>\n",
       "      <td>QkitLearn</td>\n",
       "      <td>3D_current_drive_frequency</td>\n",
       "      <td>data</td>\n",
       "    </tr>\n",
       "    <tr>\n",
       "      <th>QGC78M</th>\n",
       "      <td>1599563686</td>\n",
       "      <td>2020-09-08 12:14:46</td>\n",
       "      <td>QkitLearn</td>\n",
       "      <td>3D_current_drive_frequency</td>\n",
       "      <td>data</td>\n",
       "    </tr>\n",
       "    <tr>\n",
       "      <th>QGC7AX</th>\n",
       "      <td>1599563769</td>\n",
       "      <td>2020-09-08 12:16:09</td>\n",
       "      <td>QkitLearn</td>\n",
       "      <td>3D_current_drive_frequency</td>\n",
       "      <td>data</td>\n",
       "    </tr>\n",
       "    <tr>\n",
       "      <th>QI35MF</th>\n",
       "      <td>1602500919</td>\n",
       "      <td>2020-10-12 12:08:39</td>\n",
       "      <td>QkitLearn</td>\n",
       "      <td>3D_Power_pump_frequency</td>\n",
       "      <td>data</td>\n",
       "    </tr>\n",
       "    <tr>\n",
       "      <th>QI35N6</th>\n",
       "      <td>1602500946</td>\n",
       "      <td>2020-10-12 12:09:06</td>\n",
       "      <td>QkitLearn</td>\n",
       "      <td>3D_Power_pump_frequency</td>\n",
       "      <td>data</td>\n",
       "    </tr>\n",
       "    <tr>\n",
       "      <th>QJ63YC</th>\n",
       "      <td>1604318340</td>\n",
       "      <td>2020-11-02 11:59:00</td>\n",
       "      <td>QkitLearn</td>\n",
       "      <td>2D_drive_frequency</td>\n",
       "      <td>data</td>\n",
       "    </tr>\n",
       "  </tbody>\n",
       "</table>\n",
       "</div>"
      ],
      "text/plain": [
       "              time            datetime                 run  \\\n",
       "QRHPZG  1618297036 2021-04-13 07:57:16  basic_data_storage   \n",
       "QRHPV9  1618296885 2021-04-13 07:54:45              NO_RUN   \n",
       "QFZ34X  1598951841 2020-09-01 10:17:21           QkitLearn   \n",
       "QFZ37C  1598951928 2020-09-01 10:18:48           QkitLearn   \n",
       "QG4U70  1599220188 2020-09-04 12:49:48           QkitLearn   \n",
       "QG4ULX  1599220725 2020-09-04 12:58:45           QkitLearn   \n",
       "QG4ZN4  1599227248 2020-09-04 14:47:28           QkitLearn   \n",
       "QG4ZOT  1599227309 2020-09-04 14:48:29           QkitLearn   \n",
       "QG4ZRK  1599227408 2020-09-04 14:50:08           QkitLearn   \n",
       "QG4ZXL  1599227625 2020-09-04 14:53:45           QkitLearn   \n",
       "QG503K  1599227840 2020-09-04 14:57:20           QkitLearn   \n",
       "QG549O  1599233244 2020-09-04 16:27:24           QkitLearn   \n",
       "QGA72J  1599470155 2020-09-07 10:15:55           QkitLearn   \n",
       "QGC74O  1599563544 2020-09-08 12:12:24           QkitLearn   \n",
       "QGC78M  1599563686 2020-09-08 12:14:46           QkitLearn   \n",
       "QGC7AX  1599563769 2020-09-08 12:16:09           QkitLearn   \n",
       "QI35MF  1602500919 2020-10-12 12:08:39           QkitLearn   \n",
       "QI35N6  1602500946 2020-10-12 12:09:06           QkitLearn   \n",
       "QJ63YC  1604318340 2020-11-02 11:59:00           QkitLearn   \n",
       "\n",
       "                              name      user  \n",
       "QRHPZG                NewFancyData  wridhdhi  \n",
       "QRHPV9                NewFancyData  John_Doe  \n",
       "QFZ34X               VNA_tracedata      data  \n",
       "QFZ37C               VNA_tracedata      data  \n",
       "QG4U70  3D_current_drive_frequency      data  \n",
       "QG4ULX  3D_current_drive_frequency      data  \n",
       "QG4ZN4  3D_current_drive_frequency      data  \n",
       "QG4ZOT  3D_current_drive_frequency      data  \n",
       "QG4ZRK  3D_current_drive_frequency      data  \n",
       "QG4ZXL  3D_current_drive_frequency      data  \n",
       "QG503K  3D_current_drive_frequency      data  \n",
       "QG549O  3D_current_drive_frequency      data  \n",
       "QGA72J  3D_current_drive_frequency      data  \n",
       "QGC74O  3D_current_drive_frequency      data  \n",
       "QGC78M  3D_current_drive_frequency      data  \n",
       "QGC7AX  3D_current_drive_frequency      data  \n",
       "QI35MF     3D_Power_pump_frequency      data  \n",
       "QI35N6     3D_Power_pump_frequency      data  \n",
       "QJ63YC          2D_drive_frequency      data  "
      ]
     },
     "execution_count": 11,
     "metadata": {},
     "output_type": "execute_result"
    }
   ],
   "source": [
    "qkit.fid.show()"
   ]
  },
  {
   "cell_type": "code",
   "execution_count": 14,
   "metadata": {},
   "outputs": [],
   "source": [
    "qkit.fid.view(\"QGC7AX\")"
   ]
  },
  {
   "cell_type": "markdown",
   "metadata": {},
   "source": [
    "## Let's do a bit more (`data` class)\n",
    "\n",
    "Let's get the path or the file, and the data inside it. "
   ]
  },
  {
   "cell_type": "code",
   "execution_count": 12,
   "metadata": {},
   "outputs": [
    {
     "data": {
      "text/plain": [
       "'C:\\\\Users\\\\weideslab\\\\Documents\\\\QkitLearn\\\\data\\\\QGC7AX_3D_current_drive_frequency\\\\QGC7AX_3D_current_drive_frequency.h5'"
      ]
     },
     "execution_count": 12,
     "metadata": {},
     "output_type": "execute_result"
    }
   ],
   "source": [
    "abs_path = qkit.fid.get('QGC7AX')\n",
    "abs_path"
   ]
  },
  {
   "cell_type": "markdown",
   "metadata": {},
   "source": [
    "Once you have the file using the `fid` class we, can plot and extract data from the h5 file.\n",
    "\n",
    "The `Data` class helps with manipulating h5 files"
   ]
  },
  {
   "cell_type": "code",
   "execution_count": 13,
   "metadata": {},
   "outputs": [],
   "source": [
    "from qkit.storage.store import Data"
   ]
  },
  {
   "cell_type": "code",
   "execution_count": 14,
   "metadata": {},
   "outputs": [],
   "source": [
    "h5 = Data(qkit.fid.get('QGC7AX'))"
   ]
  },
  {
   "cell_type": "code",
   "execution_count": 15,
   "metadata": {},
   "outputs": [
    {
     "data": {
      "text/plain": [
       "<function list.index(value, start=0, stop=9223372036854775807, /)>"
      ]
     },
     "execution_count": 15,
     "metadata": {},
     "output_type": "execute_result"
    }
   ],
   "source": [
    "qkit.fid._selected_df.index"
   ]
  },
  {
   "cell_type": "markdown",
   "metadata": {},
   "source": [
    "Now once we have the h5 file let's print some properties from there . "
   ]
  },
  {
   "cell_type": "code",
   "execution_count": 17,
   "metadata": {},
   "outputs": [
    {
     "data": {
      "text/plain": [
       "HDF5Data 'C:\\Users\\weideslab\\Documents\\QkitLearn\\data\\QGC7AX_3D_current_drive_frequency\\QGC7AX_3D_current_drive_frequency.h5', filename 'QGC7AX_3D_current_drive_frequency.h5'"
      ]
     },
     "execution_count": 17,
     "metadata": {},
     "output_type": "execute_result"
    }
   ],
   "source": [
    "h5 #note this only represents  a  Data class object , not a h5 file. \n"
   ]
  },
  {
   "cell_type": "markdown",
   "metadata": {},
   "source": [
    "The `Data` class object accesss files from the path returned by the `fid` object . Some essential functions of the `data` object: \n",
    "\n",
    "1. `hf` = this gives the actual h5 file, because it maps the folder and this is the actual file\n",
    "2. `data` = this has sub parts like amplitude,phase, to know what's inside `dir(h5.data)` to see the variables.\n",
    "3. `_folder` = the folder in which it resides.\n",
    "4. `close` = closes the file.\n",
    "\n",
    "The rest are in the storing **data notebook for plotting and more**, and for what's inside , use the the `dir(h5.xxx)` command. "
   ]
  },
  {
   "cell_type": "code",
   "execution_count": 25,
   "metadata": {},
   "outputs": [
    {
     "data": {
      "text/plain": [
       "<qkit.storage.hdf_file.H5_file at 0x230980a0d88>"
      ]
     },
     "execution_count": 25,
     "metadata": {},
     "output_type": "execute_result"
    }
   ],
   "source": [
    "h5.hf"
   ]
  },
  {
   "cell_type": "code",
   "execution_count": 18,
   "metadata": {},
   "outputs": [],
   "source": [
    "amp= h5.data.amplitude[:]\n",
    "phas=h5.data.phase[:]"
   ]
  },
  {
   "cell_type": "code",
   "execution_count": 19,
   "metadata": {},
   "outputs": [
    {
     "data": {
      "text/plain": [
       "array([[[0.07569977, 0.06138974],\n",
       "        [0.07505636, 0.06110177],\n",
       "        [0.07523455, 0.06146395],\n",
       "        ...,\n",
       "        [0.0748057 , 0.06213968],\n",
       "        [0.07550935, 0.06152683],\n",
       "        [0.07580958, 0.06106291]],\n",
       "\n",
       "       [[0.07538818, 0.06155192],\n",
       "        [0.07537869, 0.06109925],\n",
       "        [0.07514735, 0.0612073 ],\n",
       "        ...,\n",
       "        [0.07526528, 0.06148997],\n",
       "        [0.07565156, 0.06119434],\n",
       "        [0.07611586, 0.06133352]],\n",
       "\n",
       "       [[0.07586771, 0.06116965],\n",
       "        [0.07548738, 0.0614358 ],\n",
       "        [0.07528897, 0.06161066],\n",
       "        ...,\n",
       "        [0.07517218, 0.06177474],\n",
       "        [0.07509338, 0.06123536],\n",
       "        [0.07563895, 0.06103032]],\n",
       "\n",
       "       ...,\n",
       "\n",
       "       [[0.07349329, 0.06068898],\n",
       "        [0.07441454, 0.06088798],\n",
       "        [0.07338326, 0.06064896],\n",
       "        ...,\n",
       "        [0.073965  , 0.06078554],\n",
       "        [0.07336425, 0.06124185],\n",
       "        [0.07379817, 0.06089831]],\n",
       "\n",
       "       [[0.07437566, 0.06010716],\n",
       "        [0.07369069, 0.06025371],\n",
       "        [0.07396338, 0.06091827],\n",
       "        ...,\n",
       "        [0.0728764 , 0.06102847],\n",
       "        [0.07370098, 0.05978883],\n",
       "        [0.07413834, 0.06081842]],\n",
       "\n",
       "       [[0.07359762, 0.0612863 ],\n",
       "        [0.07399245, 0.06076233],\n",
       "        [0.07335307, 0.06068388],\n",
       "        ...,\n",
       "        [0.07340978, 0.06146856],\n",
       "        [0.07340963, 0.06042255],\n",
       "        [0.07263087, 0.06130806]]], dtype=float32)"
      ]
     },
     "execution_count": 19,
     "metadata": {},
     "output_type": "execute_result"
    }
   ],
   "source": [
    "amp"
   ]
  },
  {
   "cell_type": "markdown",
   "metadata": {},
   "source": [
    "## general rule: \n",
    "`h5.[folder].[ds_name]` gives the dataset, `'[:]'` gives the bare data cast to a numpy array\n",
    "## \n",
    "already analyzed data is stored in the 'analysis' folder"
   ]
  }
 ],
 "metadata": {
  "kernelspec": {
   "display_name": "Python 3",
   "language": "python",
   "name": "python3"
  },
  "language_info": {
   "codemirror_mode": {
    "name": "ipython",
    "version": 3
   },
   "file_extension": ".py",
   "mimetype": "text/x-python",
   "name": "python",
   "nbconvert_exporter": "python",
   "pygments_lexer": "ipython3",
   "version": "3.7.10"
  }
 },
 "nbformat": 4,
 "nbformat_minor": 2
}
