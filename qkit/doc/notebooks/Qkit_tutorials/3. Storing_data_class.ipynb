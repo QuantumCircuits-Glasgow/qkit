{
 "cells": [
  {
   "cell_type": "markdown",
   "metadata": {},
   "source": [
    "## Notebook to demonstrate the simplicity of saving data in QKIT\n",
    "The `Data` class is used to write save and put data into `h5` files for each readout. Here we see how we can manipulate and plot the readout data using h5 files and `data` class."
   ]
  },
  {
   "cell_type": "markdown",
   "metadata": {},
   "source": [
    "### First import the QKIT store module"
   ]
  },
  {
   "cell_type": "code",
   "execution_count": 41,
   "metadata": {},
   "outputs": [],
   "source": [
    "import qkit\n",
    "from qkit.storage import store\n",
    "qkit.cfg['datadir'] = r'C:\\Users\\weideslab\\Documents\\QkitLearn\\data'\n",
    "qkit.cfg['run_id']='basic_data_storage'\n",
    "qkit.cfg['user']='wridhdhi'\n",
    "qkit.cfg['fid_scan_datadir']=True # scans the data directory for all h5 files\n",
    "qkit.cfg['fid_scan_hdf']=True # scans all the files and extracts attributes\n",
    "qkit.cfg['fid_init_viewer']=True # creates a dictionary of all those files\n"
   ]
  },
  {
   "cell_type": "markdown",
   "metadata": {},
   "source": [
    "... some imports to create some random data ..."
   ]
  },
  {
   "cell_type": "code",
   "execution_count": 42,
   "metadata": {},
   "outputs": [],
   "source": [
    "## for random data\n",
    "from numpy.random import rand\n",
    "from numpy import linspace,arange\n",
    "import time\n",
    "## number of points\n",
    "nop = 101"
   ]
  },
  {
   "cell_type": "markdown",
   "metadata": {},
   "source": [
    "## 1. Create a data file object\n",
    "The file name will be ** prepended by a unique 6 character identifier (UUID) ** \n",
    "and the file saved in a standard path below automatically. Also we can use the `fid` class to access the existing data in the following directory :\n",
    "\n",
    "`qkit.cfg['datadir']`\n",
    "\n",
    "Below this new file is opened in appending mode. "
   ]
  },
  {
   "cell_type": "code",
   "execution_count": 43,
   "metadata": {},
   "outputs": [],
   "source": [
    "h5d = store.Data(name='NewFancyData',mode = \"a\")"
   ]
  },
  {
   "cell_type": "markdown",
   "metadata": {},
   "source": [
    "`h5d`  is now an empty hdf5 file, holding only some qkit structure, this is initializing the hdf5 file and it by default adds an identifier, and stored in `datadir` location. Now our job is to put data in this hdf5 file. "
   ]
  },
  {
   "cell_type": "markdown",
   "metadata": {},
   "source": [
    "#### How to get the file path:\n",
    "use the `Data.get_filepath()` function to get the absolute path of the h5 file."
   ]
  },
  {
   "cell_type": "code",
   "execution_count": 44,
   "metadata": {},
   "outputs": [
    {
     "name": "stdout",
     "output_type": "stream",
     "text": [
      "C:\\Users\\weideslab\\Documents\\QkitLearn\\data\\basic_data_storage\\wridhdhi\\QRT3CL_NewFancyData\\QRT3CL_NewFancyData.h5\n"
     ]
    }
   ],
   "source": [
    "print(h5d.get_filepath())"
   ]
  },
  {
   "cell_type": "markdown",
   "metadata": {},
   "source": [
    "#### Now use qviewkit to open and view the file\n",
    "_Hint: in a fully started qkit environment (qkit.start()) This can be done by qkit.fid.view(\"UUID\")_ ,"
   ]
  },
  {
   "cell_type": "code",
   "execution_count": 48,
   "metadata": {},
   "outputs": [
    {
     "name": "stdout",
     "output_type": "stream",
     "text": [
      "Starting QKIT framework ... -> qkit.core.startup\n",
      "Loading module ... S10_logging.py\n",
      "Loading module ... S14_setup_directories.py\n",
      "Loading module ... S16_available_modules.py\n",
      "Loading module ... S20_check_for_updates.py\n",
      "Loading module ... S25_info_service.py\n",
      "Loading module ... S30_qkit_start.py\n",
      "Loading module ... S65_load_RI_service.py\n",
      "Loading module ... S70_load_visa.py\n",
      "Loading module ... S80_load_file_service.py\n",
      "Loading module ... S85_init_measurement.py\n",
      "Loading module ... S98_started.py\n",
      "Loading module ... S99_init_user.py\n",
      "Initialized the file info database (qkit.fid) in 0.014 seconds.\n"
     ]
    }
   ],
   "source": [
    "qkit.start()\n",
    "import qkit.core.lib.file_service.file_info_database as fid\n"
   ]
  },
  {
   "cell_type": "code",
   "execution_count": 49,
   "metadata": {},
   "outputs": [
    {
     "name": "stdout",
     "output_type": "stream",
     "text": [
      "Initialized the file info database (qkit.fid) in 0.017 seconds.\n"
     ]
    }
   ],
   "source": [
    "f=fid.fid()\n",
    "f.view('QRT3CL')"
   ]
  },
  {
   "cell_type": "markdown",
   "metadata": {},
   "source": [
    "## 1a. Comments\n",
    "Since the file is blank let's add some comments. \n",
    "\n",
    "**function to add comment to the basic hdf `data` folder** :\n",
    "\n",
    "`Data.add_comment('comment',folder='data')`\n",
    "options\n",
    " - comment (mandatory)\n",
    " - folder='data' | 'analysis' (optional, default is \"data\") "
   ]
  },
  {
   "cell_type": "code",
   "execution_count": 50,
   "metadata": {},
   "outputs": [],
   "source": [
    "h5d.add_comment(\"New data has been created ....\")"
   ]
  },
  {
   "cell_type": "markdown",
   "metadata": {},
   "source": [
    "## 2. Now we get to the important stuff: \n",
    "\n",
    " 1. first we have to create the objects which are later used to store the data\n",
    " 2.  then we can add data "
   ]
  },
  {
   "cell_type": "markdown",
   "metadata": {},
   "source": [
    "#### a. A coordinate is a 1-dim vector with bias values, e.g. set current, frequencies, etc.\n",
    "Lets add cooredinates to out file,its like defining **an axis**, a value you would measure. but in qkit it holds units, and comments as well. Note we are just defining the coordinate not actually adding any data. We are spcifying inner structure of the `data` file in h5 format. "
   ]
  },
  {
   "cell_type": "code",
   "execution_count": 52,
   "metadata": {},
   "outputs": [],
   "source": [
    "# add_coordinate()    <- for measurement boundaries/steps\n",
    "# options: name (mandatory)\n",
    "#        : unit = \"\" (optional, default is \"a.u.\")\n",
    "#        : comment = \"\" (optional, default is \"\")\n",
    "#        : folder='data' | 'analysis' (optional, default is \"data\") \n",
    "f_co = h5d.add_coordinate('frequency', unit = \"Hz\",   comment = \"VNA frequency scan\")\n",
    "I_co = h5d.add_coordinate('current',   unit = \"A\",    comment = \"magnetic field current\")\n",
    "P_co = h5d.add_coordinate('power',     unit = \"dBm\",  comment = \"microwave power\")"
   ]
  },
  {
   "cell_type": "markdown",
   "metadata": {},
   "source": [
    "#### b. A value_vector ie is a 1-dim vector measured values\n",
    "Its just values in of a coordinate described above. So you can assgn some coordinate or not using the `x` attribute. \n"
   ]
  },
  {
   "cell_type": "code",
   "execution_count": 53,
   "metadata": {},
   "outputs": [],
   "source": [
    "# add_value_vector()    <- for measurement data\n",
    "# options: name (mandatory)\n",
    "#        : x = X  (optional) coordinate vector in x direction, default: None\n",
    "#        : unit = \"\" (optional, default is \"a.u.\")\n",
    "#        : comment = \"\" (optional, default is \"\")\n",
    "#        : folder='data' | 'analysis' (optional, default is \"data\") \n",
    "\n",
    "T_vec = h5d.add_value_vector('temperature', x = None, \n",
    "                             unit = \"K\", comment = \"save temperature values\") \n",
    "Tc_vec = h5d.add_value_vector('critical_temperature', x = I_co, \n",
    "                              unit = \"K\", folder='analysis' ,comment = \"save temperature values\")"
   ]
  },
  {
   "cell_type": "markdown",
   "metadata": {},
   "source": [
    "#### c. A value_matrix is a 2-dim tuple with two cooardinates with measurement values\n",
    "Imagine a $n x n$ array of `value-vectors` , this you can definitely plot along both the axes. "
   ]
  },
  {
   "cell_type": "code",
   "execution_count": 54,
   "metadata": {},
   "outputs": [],
   "source": [
    "# add_value_matrix()    <- for measurement data\n",
    "# convention: the last coordiante should be the one with the fastest changes:\n",
    "#             e.g.  for a VNA scan x= magnetic field y= transmission frequency\n",
    "# \n",
    "# options: name (mandatory)\n",
    "#        : x = X  (optional) coordinate vector in x direction, default: None\n",
    "#        : y = Y  (mandatory) coordinate vector in y direction / fastest changes\n",
    "#        : unit = \"\" (optional, default is \"a.u.\")\n",
    "#        : comment = \"\" (optional, default is \"\")\n",
    "#        : folder='data' | 'analysis' (optional, default is \"data\") \n",
    "\n",
    "amp_mx = h5d.add_value_matrix('amplitude', x = I_co , y = f_co, \n",
    "                              unit = \"V\", comment = \"magic data\")\n",
    "pha_mx = h5d.add_value_matrix('phase',     x = I_co , y = f_co, \n",
    "                              unit = \"rad\", comment = \"more magic data!\")\n"
   ]
  },
  {
   "cell_type": "markdown",
   "metadata": {},
   "source": [
    "#### d. A value_box is a 3-dim tuple with three cooardinates with measurement values\n",
    "A $n x n x n$ array of data which you can do a color plot, and use against 2 axes. "
   ]
  },
  {
   "cell_type": "code",
   "execution_count": 55,
   "metadata": {},
   "outputs": [],
   "source": [
    "# add_value_box()    <- for measurement data\n",
    "# options: name (mandatory)\n",
    "#        : x = X  (optional) coordinate vector in x direction, default: None\n",
    "#        : y = Y  (optional) coordinate vector in y direction\n",
    "#        : z = Z  (mandatory) coordinate vector in y direction /  fastest changes\n",
    "#        : unit = \"\" (optional, default is \"a.u.\")\n",
    "#        : comment = \"\" (optional, default is \"\")\n",
    "#        : folder='data' | 'analysis' (optional, default is \"data\") \n",
    "\n",
    "amp_bx = h5d.add_value_box('amplitude', x = I_co , y = f_co, z= P_co, \n",
    "                           unit = \"V\", comment = \"magic data\")\n",
    "pha_bx = h5d.add_value_box('phase',     x = I_co , y = f_co, z= P_co, \n",
    "                           unit = \"rad\", comment = \"more magic data!\")\n",
    "\n",
    "\n"
   ]
  },
  {
   "cell_type": "markdown",
   "metadata": {},
   "source": [
    "#### e. For free text, like settings or commments there is a special dataset which can be appended to add data"
   ]
  },
  {
   "cell_type": "code",
   "execution_count": 16,
   "metadata": {},
   "outputs": [],
   "source": [
    "#string array \n",
    "#add_textlist()\n",
    "#options: name (mandatory)\n",
    "#       : comment = \"\"   (optional)\n",
    "#       : folder=\"data\"  (optional)\n",
    "# use the append method to add the text\n",
    "settings = h5d.add_textlist(\"settings\",comment = \"my settings\")\n",
    "settings.append(u\"vnapower = 10dBm\")\n",
    "settings.append(u\"fridge attenuation=50db\\n data jumps like Van Halen.\")\n"
   ]
  },
  {
   "cell_type": "markdown",
   "metadata": {},
   "source": [
    "#### f. If one want to plot a arbitrary dataset vs another arbitrary dataset use a view\n",
    "A view is a plot basically. "
   ]
  },
  {
   "cell_type": "code",
   "execution_count": 17,
   "metadata": {},
   "outputs": [],
   "source": [
    "### Add a view on Data:\n",
    "\n",
    "TvsTc_view = h5d.add_view(\"f_vs_I\", x = f_co, y = I_co)\n",
    "\n",
    "TvsTc_view.add(x=T_vec,y=Tc_vec)\n",
    "\n",
    "Laspect_view = h5d.add_view(\"locked_aspect\", x = f_co, y = f_co, \n",
    "                            view_params={'aspect':1.0, 'bgcolor':(100,200,100)})\n",
    "\n"
   ]
  },
  {
   "cell_type": "markdown",
   "metadata": {},
   "source": [
    "### g. Finally add some data to the file\n",
    "There are two functions to do so:\n",
    "  * append(data)  <- this is the most frequently used method, it does what it says.\n",
    "  * add(data)     <- this is used to set a dataset of lenght N to the data with length N"
   ]
  },
  {
   "cell_type": "markdown",
   "metadata": {},
   "source": [
    "lets make an example:"
   ]
  },
  {
   "cell_type": "code",
   "execution_count": 18,
   "metadata": {},
   "outputs": [],
   "source": [
    "# now we add the coordinate data to the file\n",
    "fs = linspace(1e9,5e9,nop)\n",
    "Is = linspace(0e-3,10e-3,nop)\n",
    "\n",
    "\n",
    "f_co.add(fs)\n",
    "I_co.add(Is)\n",
    "\n",
    "for i in arange(nop):\n",
    "    #time.sleep(10)\n",
    "    amp = rand(nop)\n",
    "    pha = rand(nop)\n",
    "    amp_mx.append(amp)\n",
    "    pha_mx.append(pha)\n",
    "    T_vec.append(float(rand(1)))\n",
    "    Tc_vec.append(float(rand(1)))\n"
   ]
  },
  {
   "cell_type": "markdown",
   "metadata": {},
   "source": [
    "### Close the file at the end"
   ]
  },
  {
   "cell_type": "code",
   "execution_count": 19,
   "metadata": {},
   "outputs": [],
   "source": [
    "h5d.close_file()"
   ]
  },
  {
   "cell_type": "code",
   "execution_count": 27,
   "metadata": {},
   "outputs": [
    {
     "name": "stdout",
     "output_type": "stream",
     "text": [
      "Starting QKIT framework ... -> qkit.core.startup\n",
      "Loading module ... S10_logging.py\n",
      "Loading module ... S14_setup_directories.py\n",
      "Loading module ... S16_available_modules.py\n",
      "Loading module ... S20_check_for_updates.py\n",
      "Loading module ... S25_info_service.py\n",
      "Loading module ... S30_qkit_start.py\n",
      "Loading module ... S65_load_RI_service.py\n",
      "Loading module ... S70_load_visa.py\n",
      "Loading module ... S80_load_file_service.py\n",
      "Loading module ... S85_init_measurement.py\n",
      "Loading module ... S98_started.py\n",
      "Loading module ... S99_init_user.py\n"
     ]
    }
   ],
   "source": [
    "qkit.start()"
   ]
  },
  {
   "cell_type": "code",
   "execution_count": 21,
   "metadata": {},
   "outputs": [
    {
     "data": {
      "text/plain": [
       "{'qkitdir': 'C:\\\\qkit\\\\qkit',\n",
       " 'coredir': 'C:\\\\qkit\\\\qkit\\\\core',\n",
       " 'logdir': 'C:\\\\qkit\\\\qkit\\\\logs',\n",
       " 'execdir': 'C:\\\\qkit\\\\qkit',\n",
       " 'rootdir': 'C:\\\\qkit\\\\qkit',\n",
       " 'tempdir': 'C:\\\\Users\\\\WEIDES~2\\\\AppData\\\\Local\\\\Temp',\n",
       " 'datadir': 'C:\\\\Users\\\\weideslab\\\\Documents\\\\QkitLearn\\\\data',\n",
       " 'instruments_dir': 'C:\\\\qkit\\\\qkit\\\\drivers',\n",
       " 'user_instruments_dir': None,\n",
       " 'datafolder_structure': 2,\n",
       " 'plot_engine': 'qkit.gui.qviewkit.main',\n",
       " 'file_log_level': 'INFO',\n",
       " 'stdout_log_level': 'WARNING',\n",
       " 'qtlab': False,\n",
       " 'run_id': 'basic_data_storage',\n",
       " 'user': 'wridhdhi',\n",
       " 'maintain_logfiles': True,\n",
       " 'blocked_modules': [],\n",
       " 'check_for_updates': False,\n",
       " 'load_info_service': True,\n",
       " 'info_host': 'localhost',\n",
       " 'info_port': 5606,\n",
       " 'qt_compatible': False,\n",
       " 'load_ri_service': False,\n",
       " 'load_visa': False,\n",
       " 'fid_scan_datadir': True,\n",
       " 'fid_restrict_to_userdir': False,\n",
       " 'fid_scan_hdf': False,\n",
       " 'fid_init_viewer': True,\n",
       " 'startdir': False,\n",
       " 'startscript': False,\n",
       " 'exitscript': False}"
      ]
     },
     "execution_count": 21,
     "metadata": {},
     "output_type": "execute_result"
    }
   ],
   "source": [
    "qkit.cfg\n"
   ]
  },
  {
   "cell_type": "code",
   "execution_count": 58,
   "metadata": {},
   "outputs": [
    {
     "name": "stdout",
     "output_type": "stream",
     "text": [
      "Initialized the file info database (qkit.fid) in 0.013 seconds.\n"
     ]
    }
   ],
   "source": [
    "import qkit.core.lib.file_service.file_info_database as fid\n",
    "f=fid.fid()\n"
   ]
  },
  {
   "cell_type": "markdown",
   "metadata": {},
   "source": [
    "**Remmember** the fid object can view the file, using qkit view lets see the structure.\n",
    "The fid functions were:\n",
    "- `fid.show(True)`\n",
    "- `fid.view('xxxxxx')`\n",
    "- `fid.h5_db` and the other databases are attributres as dictionaries. "
   ]
  },
  {
   "cell_type": "code",
   "execution_count": 61,
   "metadata": {},
   "outputs": [],
   "source": [
    "f.view('QRHPZG') #opens qkitview for detailed viewing\n"
   ]
  },
  {
   "cell_type": "code",
   "execution_count": 60,
   "metadata": {},
   "outputs": [
    {
     "data": {
      "text/html": [
       "<div>\n",
       "<style scoped>\n",
       "    .dataframe tbody tr th:only-of-type {\n",
       "        vertical-align: middle;\n",
       "    }\n",
       "\n",
       "    .dataframe tbody tr th {\n",
       "        vertical-align: top;\n",
       "    }\n",
       "\n",
       "    .dataframe thead th {\n",
       "        text-align: right;\n",
       "    }\n",
       "</style>\n",
       "<table border=\"1\" class=\"dataframe\">\n",
       "  <thead>\n",
       "    <tr style=\"text-align: right;\">\n",
       "      <th></th>\n",
       "      <th>time</th>\n",
       "      <th>datetime</th>\n",
       "      <th>run</th>\n",
       "      <th>name</th>\n",
       "      <th>user</th>\n",
       "      <th>rating</th>\n",
       "    </tr>\n",
       "  </thead>\n",
       "  <tbody>\n",
       "    <tr>\n",
       "      <th>QRHPZG</th>\n",
       "      <td>1618297036</td>\n",
       "      <td>2021-04-13 07:57:16</td>\n",
       "      <td>basic_data_storage</td>\n",
       "      <td>NewFancyData</td>\n",
       "      <td>wridhdhi</td>\n",
       "      <td></td>\n",
       "    </tr>\n",
       "    <tr>\n",
       "      <th>QRHPV9</th>\n",
       "      <td>1618296885</td>\n",
       "      <td>2021-04-13 07:54:45</td>\n",
       "      <td>NO_RUN</td>\n",
       "      <td>NewFancyData</td>\n",
       "      <td>John_Doe</td>\n",
       "      <td></td>\n",
       "    </tr>\n",
       "    <tr>\n",
       "      <th>QFZ34X</th>\n",
       "      <td>1598951841</td>\n",
       "      <td>2020-09-01 10:17:21</td>\n",
       "      <td>QkitLearn</td>\n",
       "      <td>VNA_tracedata</td>\n",
       "      <td>data</td>\n",
       "      <td></td>\n",
       "    </tr>\n",
       "    <tr>\n",
       "      <th>QFZ37C</th>\n",
       "      <td>1598951928</td>\n",
       "      <td>2020-09-01 10:18:48</td>\n",
       "      <td>QkitLearn</td>\n",
       "      <td>VNA_tracedata</td>\n",
       "      <td>data</td>\n",
       "      <td></td>\n",
       "    </tr>\n",
       "    <tr>\n",
       "      <th>QG4U70</th>\n",
       "      <td>1599220188</td>\n",
       "      <td>2020-09-04 12:49:48</td>\n",
       "      <td>QkitLearn</td>\n",
       "      <td>3D_current_drive_frequency</td>\n",
       "      <td>data</td>\n",
       "      <td></td>\n",
       "    </tr>\n",
       "    <tr>\n",
       "      <th>QG4ULX</th>\n",
       "      <td>1599220725</td>\n",
       "      <td>2020-09-04 12:58:45</td>\n",
       "      <td>QkitLearn</td>\n",
       "      <td>3D_current_drive_frequency</td>\n",
       "      <td>data</td>\n",
       "      <td></td>\n",
       "    </tr>\n",
       "    <tr>\n",
       "      <th>QG4ZN4</th>\n",
       "      <td>1599227248</td>\n",
       "      <td>2020-09-04 14:47:28</td>\n",
       "      <td>QkitLearn</td>\n",
       "      <td>3D_current_drive_frequency</td>\n",
       "      <td>data</td>\n",
       "      <td></td>\n",
       "    </tr>\n",
       "    <tr>\n",
       "      <th>QG4ZOT</th>\n",
       "      <td>1599227309</td>\n",
       "      <td>2020-09-04 14:48:29</td>\n",
       "      <td>QkitLearn</td>\n",
       "      <td>3D_current_drive_frequency</td>\n",
       "      <td>data</td>\n",
       "      <td></td>\n",
       "    </tr>\n",
       "    <tr>\n",
       "      <th>QG4ZRK</th>\n",
       "      <td>1599227408</td>\n",
       "      <td>2020-09-04 14:50:08</td>\n",
       "      <td>QkitLearn</td>\n",
       "      <td>3D_current_drive_frequency</td>\n",
       "      <td>data</td>\n",
       "      <td></td>\n",
       "    </tr>\n",
       "    <tr>\n",
       "      <th>QG4ZXL</th>\n",
       "      <td>1599227625</td>\n",
       "      <td>2020-09-04 14:53:45</td>\n",
       "      <td>QkitLearn</td>\n",
       "      <td>3D_current_drive_frequency</td>\n",
       "      <td>data</td>\n",
       "      <td></td>\n",
       "    </tr>\n",
       "    <tr>\n",
       "      <th>QG503K</th>\n",
       "      <td>1599227840</td>\n",
       "      <td>2020-09-04 14:57:20</td>\n",
       "      <td>QkitLearn</td>\n",
       "      <td>3D_current_drive_frequency</td>\n",
       "      <td>data</td>\n",
       "      <td></td>\n",
       "    </tr>\n",
       "    <tr>\n",
       "      <th>QG549O</th>\n",
       "      <td>1599233244</td>\n",
       "      <td>2020-09-04 16:27:24</td>\n",
       "      <td>QkitLearn</td>\n",
       "      <td>3D_current_drive_frequency</td>\n",
       "      <td>data</td>\n",
       "      <td></td>\n",
       "    </tr>\n",
       "    <tr>\n",
       "      <th>QGA72J</th>\n",
       "      <td>1599470155</td>\n",
       "      <td>2020-09-07 10:15:55</td>\n",
       "      <td>QkitLearn</td>\n",
       "      <td>3D_current_drive_frequency</td>\n",
       "      <td>data</td>\n",
       "      <td></td>\n",
       "    </tr>\n",
       "    <tr>\n",
       "      <th>QGC74O</th>\n",
       "      <td>1599563544</td>\n",
       "      <td>2020-09-08 12:12:24</td>\n",
       "      <td>QkitLearn</td>\n",
       "      <td>3D_current_drive_frequency</td>\n",
       "      <td>data</td>\n",
       "      <td></td>\n",
       "    </tr>\n",
       "    <tr>\n",
       "      <th>QGC78M</th>\n",
       "      <td>1599563686</td>\n",
       "      <td>2020-09-08 12:14:46</td>\n",
       "      <td>QkitLearn</td>\n",
       "      <td>3D_current_drive_frequency</td>\n",
       "      <td>data</td>\n",
       "      <td></td>\n",
       "    </tr>\n",
       "    <tr>\n",
       "      <th>QGC7AX</th>\n",
       "      <td>1599563769</td>\n",
       "      <td>2020-09-08 12:16:09</td>\n",
       "      <td>QkitLearn</td>\n",
       "      <td>3D_current_drive_frequency</td>\n",
       "      <td>data</td>\n",
       "      <td>10.0</td>\n",
       "    </tr>\n",
       "    <tr>\n",
       "      <th>QI35MF</th>\n",
       "      <td>1602500919</td>\n",
       "      <td>2020-10-12 12:08:39</td>\n",
       "      <td>QkitLearn</td>\n",
       "      <td>3D_Power_pump_frequency</td>\n",
       "      <td>data</td>\n",
       "      <td></td>\n",
       "    </tr>\n",
       "    <tr>\n",
       "      <th>QI35N6</th>\n",
       "      <td>1602500946</td>\n",
       "      <td>2020-10-12 12:09:06</td>\n",
       "      <td>QkitLearn</td>\n",
       "      <td>3D_Power_pump_frequency</td>\n",
       "      <td>data</td>\n",
       "      <td></td>\n",
       "    </tr>\n",
       "    <tr>\n",
       "      <th>QJ63YC</th>\n",
       "      <td>1604318340</td>\n",
       "      <td>2020-11-02 11:59:00</td>\n",
       "      <td>QkitLearn</td>\n",
       "      <td>2D_drive_frequency</td>\n",
       "      <td>data</td>\n",
       "      <td></td>\n",
       "    </tr>\n",
       "    <tr>\n",
       "      <th>QRT3CL</th>\n",
       "      <td>1618827573</td>\n",
       "      <td>2021-04-19 11:19:33</td>\n",
       "      <td>basic_data_storage</td>\n",
       "      <td>NewFancyData</td>\n",
       "      <td>wridhdhi</td>\n",
       "      <td>10.0</td>\n",
       "    </tr>\n",
       "  </tbody>\n",
       "</table>\n",
       "</div>"
      ],
      "text/plain": [
       "              time            datetime                 run  \\\n",
       "QRHPZG  1618297036 2021-04-13 07:57:16  basic_data_storage   \n",
       "QRHPV9  1618296885 2021-04-13 07:54:45              NO_RUN   \n",
       "QFZ34X  1598951841 2020-09-01 10:17:21           QkitLearn   \n",
       "QFZ37C  1598951928 2020-09-01 10:18:48           QkitLearn   \n",
       "QG4U70  1599220188 2020-09-04 12:49:48           QkitLearn   \n",
       "QG4ULX  1599220725 2020-09-04 12:58:45           QkitLearn   \n",
       "QG4ZN4  1599227248 2020-09-04 14:47:28           QkitLearn   \n",
       "QG4ZOT  1599227309 2020-09-04 14:48:29           QkitLearn   \n",
       "QG4ZRK  1599227408 2020-09-04 14:50:08           QkitLearn   \n",
       "QG4ZXL  1599227625 2020-09-04 14:53:45           QkitLearn   \n",
       "QG503K  1599227840 2020-09-04 14:57:20           QkitLearn   \n",
       "QG549O  1599233244 2020-09-04 16:27:24           QkitLearn   \n",
       "QGA72J  1599470155 2020-09-07 10:15:55           QkitLearn   \n",
       "QGC74O  1599563544 2020-09-08 12:12:24           QkitLearn   \n",
       "QGC78M  1599563686 2020-09-08 12:14:46           QkitLearn   \n",
       "QGC7AX  1599563769 2020-09-08 12:16:09           QkitLearn   \n",
       "QI35MF  1602500919 2020-10-12 12:08:39           QkitLearn   \n",
       "QI35N6  1602500946 2020-10-12 12:09:06           QkitLearn   \n",
       "QJ63YC  1604318340 2020-11-02 11:59:00           QkitLearn   \n",
       "QRT3CL  1618827573 2021-04-19 11:19:33  basic_data_storage   \n",
       "\n",
       "                              name      user rating  \n",
       "QRHPZG                NewFancyData  wridhdhi         \n",
       "QRHPV9                NewFancyData  John_Doe         \n",
       "QFZ34X               VNA_tracedata      data         \n",
       "QFZ37C               VNA_tracedata      data         \n",
       "QG4U70  3D_current_drive_frequency      data         \n",
       "QG4ULX  3D_current_drive_frequency      data         \n",
       "QG4ZN4  3D_current_drive_frequency      data         \n",
       "QG4ZOT  3D_current_drive_frequency      data         \n",
       "QG4ZRK  3D_current_drive_frequency      data         \n",
       "QG4ZXL  3D_current_drive_frequency      data         \n",
       "QG503K  3D_current_drive_frequency      data         \n",
       "QG549O  3D_current_drive_frequency      data         \n",
       "QGA72J  3D_current_drive_frequency      data         \n",
       "QGC74O  3D_current_drive_frequency      data         \n",
       "QGC78M  3D_current_drive_frequency      data         \n",
       "QGC7AX  3D_current_drive_frequency      data   10.0  \n",
       "QI35MF     3D_Power_pump_frequency      data         \n",
       "QI35N6     3D_Power_pump_frequency      data         \n",
       "QJ63YC          2D_drive_frequency      data         \n",
       "QRT3CL                NewFancyData  wridhdhi   10.0  "
      ]
     },
     "execution_count": 60,
     "metadata": {},
     "output_type": "execute_result"
    }
   ],
   "source": [
    "f.show(True)"
   ]
  },
  {
   "cell_type": "markdown",
   "metadata": {},
   "source": [
    "## Remmember\n",
    "The h5 data is in 3 categroeis/folders :\n",
    "1. data = folder containing 1D,2D,3D data. \n",
    "2. views = another folder containing plots\n",
    "3. analysis = temperature was added in this, nothing different from data justanother folder\n",
    "\n",
    "Use the following functions :\n",
    "### adding stuff :\n",
    "1. 'add_comment',\n",
    "2.  'add_coordinate',\n",
    "3. 'add_fid_param',\n",
    "4. 'add_textlist',\n",
    "5. 'add_value_box',\n",
    "6. 'add_value_matrix',\n",
    "7. 'add_value_vector',\n",
    "8. 'add_view',\n",
    "\n",
    "### accessing :\n",
    "use the `h5d.[folder].[variable]` like `hd5.data.amplitude[:]` to get the amplitude data\n",
    "\n",
    "\n",
    "### use qkitview to see the file\n",
    "\n",
    "\n",
    "### analysis\n",
    "TODO : to write\n",
    "\n",
    "### then close the file with `hdf.close()`"
   ]
  }
 ],
 "metadata": {
  "kernelspec": {
   "display_name": "Python 3",
   "language": "python",
   "name": "python3"
  },
  "language_info": {
   "codemirror_mode": {
    "name": "ipython",
    "version": 3
   },
   "file_extension": ".py",
   "mimetype": "text/x-python",
   "name": "python",
   "nbconvert_exporter": "python",
   "pygments_lexer": "ipython3",
   "version": "3.7.10"
  }
 },
 "nbformat": 4,
 "nbformat_minor": 2
}
