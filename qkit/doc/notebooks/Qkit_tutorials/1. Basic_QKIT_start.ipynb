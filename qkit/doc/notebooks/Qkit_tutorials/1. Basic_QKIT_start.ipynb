{
 "cells": [
  {
   "cell_type": "markdown",
   "metadata": {},
   "source": [
    "# Example Notebook to demonstrate how to start qkit"
   ]
  },
  {
   "cell_type": "markdown",
   "metadata": {},
   "source": [
    "### 1.  First import QKIT\n",
    "this imports the basic qkit module and initializes the configuration"
   ]
  },
  {
   "cell_type": "code",
   "execution_count": 1,
   "metadata": {},
   "outputs": [
    {
     "name": "stdout",
     "output_type": "stream",
     "text": [
      "QKIT configuration initialized -> available as qkit.cfg[...]\n"
     ]
    }
   ],
   "source": [
    "import qkit"
   ]
  },
  {
   "cell_type": "markdown",
   "metadata": {},
   "source": [
    "The dictionary ** qkit.cfg ** holds the central configuration\n",
    "of the qkit framework\n",
    "\n",
    "The default values are set in the file ** qkit/config/environment.py ** \n",
    "and the file ** qkit/config/local.py ** if it exists."
   ]
  },
  {
   "cell_type": "markdown",
   "metadata": {},
   "source": [
    "#### To show its contents one can e.g. use"
   ]
  },
  {
   "cell_type": "code",
   "execution_count": 2,
   "metadata": {},
   "outputs": [
    {
     "name": "stdout",
     "output_type": "stream",
     "text": [
      "{'coredir': 'C:\\\\qkit\\\\qkit\\\\core',\n",
      " 'datadir': 'C:\\\\qkit\\\\qkit\\\\data',\n",
      " 'datafolder_structure': 2,\n",
      " 'execdir': 'C:\\\\qkit\\\\qkit',\n",
      " 'file_log_level': 'INFO',\n",
      " 'instruments_dir': 'C:\\\\qkit\\\\qkit\\\\drivers',\n",
      " 'logdir': 'C:\\\\qkit\\\\qkit\\\\logs',\n",
      " 'plot_engine': 'qkit.gui.qviewkit.main',\n",
      " 'qkitdir': 'C:\\\\qkit\\\\qkit',\n",
      " 'qtlab': False,\n",
      " 'rootdir': 'C:\\\\qkit\\\\qkit',\n",
      " 'stdout_log_level': 'WARNING',\n",
      " 'tempdir': 'C:\\\\Users\\\\WEIDES~2\\\\AppData\\\\Local\\\\Temp',\n",
      " 'user_instruments_dir': None}\n"
     ]
    }
   ],
   "source": [
    "from pprint import pprint\n",
    "pprint(qkit.cfg)\n",
    "# or simply \"qkit.cfg\" in an jupyter cell"
   ]
  },
  {
   "cell_type": "markdown",
   "metadata": {},
   "source": [
    "### 2. If one wants to change a setting, there are two main options:\n",
    "  * change the setting in qkit/config/local.py ** before ** importing qkit\n",
    "  * or by directly manipulating the dictionary ** after ** importing qkit\n",
    "    like this:\n",
    "    \n",
    "    \n",
    " Set the data directory first, then the USER, RUN_ID , then whether to scan hdf files and so on. \n",
    " Then initialize using `qkit.start()`"
   ]
  },
  {
   "cell_type": "code",
   "execution_count": 3,
   "metadata": {},
   "outputs": [],
   "source": [
    "qkit.cfg['datadir'] =  r'C:\\Users\\weideslab\\Documents\\QkitLearn\\data'\n",
    "qkit.cfg['user']= \"Wridhdhi\"\n",
    "qkit.cfg['run_id']= \"Basic start\""
   ]
  },
  {
   "cell_type": "markdown",
   "metadata": {},
   "source": [
    "### 3. to start the full environment, execute qkit.start()"
   ]
  },
  {
   "cell_type": "code",
   "execution_count": 4,
   "metadata": {},
   "outputs": [
    {
     "name": "stdout",
     "output_type": "stream",
     "text": [
      "Starting QKIT framework ... -> qkit.core.startup\n",
      "Loading module ... S10_logging.py\n",
      "Loading module ... S14_setup_directories.py\n",
      "Loading module ... S16_available_modules.py\n",
      "Loading module ... S20_check_for_updates.py\n",
      "Loading module ... S25_info_service.py\n",
      "Loading module ... S30_qkit_start.py\n",
      "Loading module ... S65_load_RI_service.py\n",
      "Loading module ... S70_load_visa.py\n",
      "Loading module ... S80_load_file_service.py\n",
      "Loading module ... S85_init_measurement.py\n",
      "Initialized the file info database (qkit.fid) in 0.730 seconds.\n"
     ]
    },
    {
     "data": {
      "application/vnd.jupyter.widget-view+json": {
       "model_id": "9d1204dffebe4d33bf7ee9bc21e93477",
       "version_major": 2,
       "version_minor": 0
      },
      "text/plain": [
       "HBox(children=(Text(value='Basic start', description='Please check: Run ID', placeholder='***RUN_ID IS EMPTY**…"
      ]
     },
     "metadata": {},
     "output_type": "display_data"
    },
    {
     "name": "stdout",
     "output_type": "stream",
     "text": [
      "Loading module ... S98_started.py\n",
      "Loading module ... S99_init_user.py\n"
     ]
    }
   ],
   "source": [
    "qkit.start()"
   ]
  },
  {
   "cell_type": "markdown",
   "metadata": {},
   "source": [
    "This starts the qkit environment with a set of services, e.g:\n",
    "  * a zmq info service to distribute updates on measurements\n",
    "  * a zerorpc service to to allow specific commands from remote\n",
    "  * the file service database module \n",
    "  * a device (instrument) database service \n",
    "  * etc.\n",
    "  "
   ]
  },
  {
   "cell_type": "markdown",
   "metadata": {},
   "source": [
    "#### Now you can execute the measurement, analysis or similar script ,\n",
    "The version info can be found by "
   ]
  }
 ],
 "metadata": {
  "kernelspec": {
   "display_name": "Python 3",
   "language": "python",
   "name": "python3"
  },
  "language_info": {
   "codemirror_mode": {
    "name": "ipython",
    "version": 3
   },
   "file_extension": ".py",
   "mimetype": "text/x-python",
   "name": "python",
   "nbconvert_exporter": "python",
   "pygments_lexer": "ipython3",
   "version": "3.7.10"
  }
 },
 "nbformat": 4,
 "nbformat_minor": 2
}
