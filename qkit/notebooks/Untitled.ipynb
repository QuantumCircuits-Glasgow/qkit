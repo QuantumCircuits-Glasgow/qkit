{
 "cells": [
  {
   "cell_type": "code",
   "execution_count": 1,
   "id": "ad698755",
   "metadata": {},
   "outputs": [
    {
     "name": "stdout",
     "output_type": "stream",
     "text": [
      "QKIT configuration initialized -> available as qkit.cfg[...]\n"
     ]
    }
   ],
   "source": [
    "import qkit\n",
    "from qkit.drivers.Keithley_2450 import Keithley_2450"
   ]
  },
  {
   "cell_type": "code",
   "execution_count": null,
   "id": "f5af2e77",
   "metadata": {},
   "outputs": [],
   "source": [
    "k=Keithley_2450(\"k\",\"getID\")"
   ]
  },
  {
   "cell_type": "code",
   "execution_count": null,
   "id": "27144683",
   "metadata": {},
   "outputs": [],
   "source": [
    "k.printBufferElementTable()"
   ]
  },
  {
   "cell_type": "code",
   "execution_count": null,
   "id": "e1bd61cb",
   "metadata": {},
   "outputs": [],
   "source": [
    "k.get_latest_reading()"
   ]
  },
  {
   "cell_type": "code",
   "execution_count": null,
   "id": "e0fc2c16",
   "metadata": {},
   "outputs": [],
   "source": [
    "k.make_measurement(\"CURR\")\n"
   ]
  },
  {
   "cell_type": "code",
   "execution_count": null,
   "id": "09b940f0",
   "metadata": {},
   "outputs": [],
   "source": []
  },
  {
   "cell_type": "code",
   "execution_count": null,
   "id": "cc18a0ba",
   "metadata": {},
   "outputs": [],
   "source": []
  }
 ],
 "metadata": {
  "kernelspec": {
   "display_name": "Python 3 (ipykernel)",
   "language": "python",
   "name": "python3"
  },
  "language_info": {
   "codemirror_mode": {
    "name": "ipython",
    "version": 3
   },
   "file_extension": ".py",
   "mimetype": "text/x-python",
   "name": "python",
   "nbconvert_exporter": "python",
   "pygments_lexer": "ipython3",
   "version": "3.8.8"
  },
  "vscode": {
   "interpreter": {
    "hash": "e4de87c5ffd78676bdd3bd32d2815e36d84189da8b7ff5dec5acc9609c0d6f8f"
   }
  }
 },
 "nbformat": 4,
 "nbformat_minor": 5
}
